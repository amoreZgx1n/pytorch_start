{
 "cells": [
  {
   "cell_type": "markdown",
   "id": "3f4c8b7c",
   "metadata": {},
   "source": [
    "<h1>Quick Numpy-tensor Learning</h1>"
   ]
  },
  {
   "cell_type": "markdown",
   "id": "53a3ea38",
   "metadata": {},
   "source": [
    "<h2>Create a tensor</h2>"
   ]
  },
  {
   "cell_type": "markdown",
   "id": "80d2d994",
   "metadata": {},
   "source": [
    "Like numpy, tensor in pytorch is a very useful package, but we don’t need to learn it systematically. The most effective way is to understand the main methods and master and expand them in practical applications."
   ]
  },
  {
   "cell_type": "code",
   "execution_count": 19,
   "id": "1eafa274",
   "metadata": {},
   "outputs": [],
   "source": [
    "import numpy as np\n",
    "import torch"
   ]
  },
  {
   "cell_type": "markdown",
   "id": "813b10b0",
   "metadata": {},
   "source": [
    " I don't want to introduce what is array, and I will directly give the usual function to new a tensor."
   ]
  },
  {
   "cell_type": "code",
   "execution_count": 20,
   "id": "cc9a15d5",
   "metadata": {},
   "outputs": [
    {
     "data": {
      "text/plain": [
       "tensor([1, 2, 3, 4])"
      ]
     },
     "execution_count": 20,
     "metadata": {},
     "output_type": "execute_result"
    }
   ],
   "source": [
    "torch.tensor([1, 2, 3, 4])    # by list "
   ]
  },
  {
   "cell_type": "code",
   "execution_count": 21,
   "id": "abe1cb83",
   "metadata": {},
   "outputs": [
    {
     "name": "stdout",
     "output_type": "stream",
     "text": [
      "tensor([ 1.0000,  5.5000, 10.0000])\n",
      "tensor([1.0000e+01, 3.1623e+05, 1.0000e+10])\n",
      "tensor([1, 4, 7])\n"
     ]
    }
   ],
   "source": [
    "# by space the series\n",
    "m1 = torch.linspace(1, 10, 3)    # the parameter 'step' is numbers we get\n",
    "m2 = torch.logspace(1, 10, 3)\n",
    "m3 = torch.arange(1, 10, 3)    # the parameter 'step' is the step\n",
    "print(m1)\n",
    "print(m2)\n",
    "print(m3)"
   ]
  },
  {
   "cell_type": "code",
   "execution_count": 22,
   "id": "e53e1cb5",
   "metadata": {},
   "outputs": [
    {
     "name": "stdout",
     "output_type": "stream",
     "text": [
      "tensor([[1., 0., 0., 0.],\n",
      "        [0., 1., 0., 0.],\n",
      "        [0., 0., 1., 0.]])\n",
      "tensor([[[0.3296, 0.8415],\n",
      "         [0.5794, 0.6501],\n",
      "         [0.1551, 0.7829],\n",
      "         [0.8113, 0.9307]],\n",
      "\n",
      "        [[0.9159, 0.3593],\n",
      "         [0.5258, 0.8536],\n",
      "         [0.6976, 0.9222],\n",
      "         [0.9989, 0.2667]]])\n"
     ]
    }
   ],
   "source": [
    "# Special but commonly used\n",
    "m4 = torch.eye(3, 4)    # the shape dimension is 2\n",
    "m5 = torch.ones(2, 4, 2)\n",
    "m6 = torch.zeros(2, 4, 2)\n",
    "m7 = torch.rand(2, 4, 2)\n",
    "print(m4)\n",
    "print(m7)"
   ]
  },
  {
   "cell_type": "markdown",
   "id": "2580e34b",
   "metadata": {},
   "source": [
    "Of course there are many ways, such as `ones_like`, `zeros_like`, `from_Numpy` and so on. Here we don't introduce more."
   ]
  },
  {
   "cell_type": "markdown",
   "id": "083c2023",
   "metadata": {},
   "source": [
    "**The differences between `torch.Tensor` and `torch.tensor`** \n",
    "  \n",
    "1.`torch.Tensor` is a mix of `torch.empty` and `torch.tensor`. But when incoming data, `torch.Tensor` uses Tensor's global default dtype (FloatTensor) by default, but `torch.tensor` will judge from the data.  \n",
    "2.`torch.tensor(1)` return the digit 1, but `torch.Tensor(1)` return a tensor that size is one and the vaule is random.\n"
   ]
  },
  {
   "cell_type": "code",
   "execution_count": 25,
   "id": "9a002fb3",
   "metadata": {},
   "outputs": [
    {
     "name": "stdout",
     "output_type": "stream",
     "text": [
      "tensor(1) torch.int64\n",
      "tensor([0.]) torch.float32\n"
     ]
    }
   ],
   "source": [
    "t1 = torch.tensor(1)\n",
    "t2 = torch.Tensor(1)\n",
    "print(t1, t1.dtype)\n",
    "print(t2, t2.dtype)"
   ]
  },
  {
   "cell_type": "markdown",
   "id": "3de6d335",
   "metadata": {},
   "source": [
    "<h2>Modify tensor shape</h2>"
   ]
  },
  {
   "cell_type": "code",
   "execution_count": 32,
   "id": "087351d0",
   "metadata": {},
   "outputs": [
    {
     "name": "stdout",
     "output_type": "stream",
     "text": [
      "torch.Size([5, 6])\n",
      "torch.Size([5, 6])\n",
      "30\n"
     ]
    }
   ],
   "source": [
    "n1 = torch.rand(5, 6)\n",
    "print(n1.size())    # size() is equal to shape, and the same as resize and reshape\n",
    "print(n1.shape)\n",
    "print(torch.numel(n1))\n"
   ]
  }
 ],
 "metadata": {
  "kernelspec": {
   "display_name": "Python 3 (ipykernel)",
   "language": "python",
   "name": "python3"
  },
  "language_info": {
   "codemirror_mode": {
    "name": "ipython",
    "version": 3
   },
   "file_extension": ".py",
   "mimetype": "text/x-python",
   "name": "python",
   "nbconvert_exporter": "python",
   "pygments_lexer": "ipython3",
   "version": "3.9.7"
  }
 },
 "nbformat": 4,
 "nbformat_minor": 5
}
